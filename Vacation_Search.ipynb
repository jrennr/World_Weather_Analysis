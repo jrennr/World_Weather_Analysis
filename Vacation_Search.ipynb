{
 "cells": [
  {
   "cell_type": "code",
   "execution_count": null,
   "metadata": {},
   "outputs": [],
   "source": [
    "# Dependencies and Setup\n",
    "import hvplot.pandas\n",
    "import pandas as pd\n",
    "import requests\n",
    "import geopandas as gdp\n",
    "import geoviews as gv\n",
    "from geoviews import title_sources as gvts\n",
    "\n",
    "# Turn off warning messages\n",
    "import warnings\n",
    "warnings.filterwarnings(\"ignore\")\n",
    "\n",
    "# Import API key\n",
    "from config import geoapify_key"
   ]
  },
  {
   "cell_type": "code",
   "execution_count": null,
   "metadata": {},
   "outputs": [],
   "source": [
    "# Import the WeatherPy_database.csv file. \n",
    "file_path = \"c:\\WeatherPy_database.csv\"\n",
    "\n",
    "# Display sample data\n",
    "weather_data_df = pd.read.csv(file_path)\n",
    "print(weather_data_df)"
   ]
  },
  {
   "cell_type": "code",
   "execution_count": null,
   "metadata": {},
   "outputs": [],
   "source": [
    "# Prompt the user to enter minimum and maximum temperature criteria.\n",
    "min_temp = float(input(\"Enter the minimum temperature criteria: \"))\n",
    "max_temp = float(input(\"Enter the maximum temperature criteria: \"))\n"
   ]
  },
  {
   "cell_type": "code",
   "execution_count": null,
   "metadata": {},
   "outputs": [],
   "source": [
    "# Create a new Dataframe and Filter the DataFrame based on temperature criteria\n",
    "preferred_cities_df = city_data_df.loc[\n",
    "    (city_data_df['Max Temperature'] >= min_temp) &\n",
    "    (city_data_df['Max Temperature'] <= max_temp)\n",
    "].copy()\n",
    "\n",
    "# Display the filtered DataFrame\n",
    "print(preferred_cities_df)\n"
   ]
  },
  {
   "cell_type": "code",
   "execution_count": null,
   "metadata": {},
   "outputs": [],
   "source": [
    "# Filter the city_data_df DataFrame to find the cities that fit the criteria using the loc method.\n",
    "filtered_cities = city_data_df.loc[\n",
    "    (city_data_df['Max Temperature'] >= min_temp) & \n",
    "    (city_data_df['Max Temperature'] <= max_temp)\n",
    "]\n",
    "\n",
    "# Display sample data\n",
    "print(filtered_cities)"
   ]
  },
  {
   "cell_type": "code",
   "execution_count": null,
   "metadata": {},
   "outputs": [],
   "source": [
    "# Create a new DataFrame by dropping empty rows\n",
    "clean_travel_cities = preferred_cities_df.dropna().copy()\n",
    "\n",
    "# Display the cleaned DataFrame\n",
    "print(clean_travel_cities)\n"
   ]
  },
  {
   "cell_type": "code",
   "execution_count": null,
   "metadata": {},
   "outputs": [],
   "source": [
    "# Drop any empty rows and create a new DataFrame that doesn’t have empty rows.\n",
    "clean_travel_cities = preferred_cities_df.dropna().copy()\n",
    "\n",
    "# Display sample data\n",
    "print(clean_travel_cities.head())"
   ]
  },
  {
   "cell_type": "code",
   "execution_count": null,
   "metadata": {},
   "outputs": [],
   "source": [
    "# Copy selected columns to create a new DataFrame\n",
    "hotel_df = clean_travel_cities[[\"City\", \"Country\", \"Max Temp\", \"Current Description\", \"Latitude\", \"Longitude\"]].copy()\n",
    "\n",
    "# Display the hotel_df DataFrame\n",
    "print(hotel_df)"
   ]
  },
  {
   "cell_type": "code",
   "execution_count": null,
   "metadata": {},
   "outputs": [],
   "source": [
    "# Create DataFrame called hotel_df to store hotel names along with city, country, max temp, and coordinates.\n",
    "hotel_df = pd.DataFrame(columns=[\"Hotel Name\", \"City\", \"Country\", \"Max Temp\", \"Latitude\", \"Longitude\"])\n",
    "hotel_df[\"Hotel Name\"] = hotel_names\n",
    "hotel_df[\"City\"] = clean_travel_cities[\"City\"]\n",
    "hotel_df[\"Country\"] = clean_travel_cities[\"Country\"]\n",
    "hotel_df[\"Max Temp\"] = clean_travel_cities[\"Max Temp\"]\n",
    "hotel_df[\"Latitude\"] = clean_travel_cities[\"Latitude\"]\n",
    "hotel_df[\"Longitude\"] = clean_travel_cities[\"Longitude\"]\n",
    "\n",
    "# Display the hotel_df DataFrame\n",
    "print(hotel_df)"
   ]
  },
  {
   "cell_type": "code",
   "execution_count": null,
   "metadata": {},
   "outputs": [],
   "source": [
    "# Create a new column \"Hotel Name\".\n",
    "hotel_df[\"Hotel Name\"] = \"\"\n",
    "\n",
    "# Display sample data\n",
    "hotel_df"
   ]
  },
  {
   "cell_type": "code",
   "execution_count": null,
   "metadata": {},
   "outputs": [],
   "source": [
    "# Set parameters to search for a hotel\n",
    "radius = 5000\n",
    "params = {\n",
    "    \"categories\":\"accommodation.hotel\",\n",
    "    \"apiKey\": geoapify_key,\n",
    "    \"limit\":20\n",
    "}"
   ]
  },
  {
   "cell_type": "code",
   "execution_count": null,
   "metadata": {},
   "outputs": [],
   "source": [
    "# Iterate through the hotel DataFrame\n",
    "\n",
    "# Print a message to follow up the hotel search\n",
    "print(\"Starting hotel search\")\n",
    "\n",
    "# Iterate through the hotel_df DataFrame\n",
    "for index, row in hotel_df.iterrows():\n",
    "    # Get latitude and longitude from DataFrame.\n",
    "    latitude = # YOUR CODE HERE\n",
    "    longitude = # YOUR CODE HERE\n",
    "    \n",
    "    # Add the current city's latitude and longitude to the params dictionary\n",
    "    params[\"filter\"] = f\"circle:{longitude},{latitude},{radius}\"\n",
    "    params[\"bias\"] = f\"proximity:{longitude},{latitude}\"\n",
    "    \n",
    "    # Set up the base URL for the Geoapify Places API.\n",
    "    base_url = \"https://api.geoapify.com/v2/places\"\n",
    "\n",
    "    # Make request and retrieve the JSON data by using the params dictionaty\n",
    "    name_address = # YOUR CODE HERE\n",
    "    \n",
    "    # Convert the API response to JSON format\n",
    "    name_address = # YOUR CODE HERE\n",
    "    \n",
    "    # Get the first hotel from the results and store the name, if a hotel isn't found set the hotel name as \"No hotel found\".\n",
    "    try:\n",
    "        hotel_df.loc[index, \"Hotel Name\"] = # YOUR CODE HERE\n",
    "    except (KeyError, IndexError):\n",
    "        # If no hotel is found, set the hotel name as \"No hotel found\".\n",
    "        hotel_df.loc[index, \"Hotel Name\"] = \"No hotel found\"\n",
    "        \n",
    "    # Log the search results\n",
    "    print(f\"{hotel_df.loc[index, 'City']} - nearest hotel: {hotel_df.loc[index, 'Hotel Name']}\")\n",
    "\n",
    "# Display sample data\n",
    "hotel_df"
   ]
  },
  {
   "cell_type": "code",
   "execution_count": null,
   "metadata": {},
   "outputs": [],
   "source": [
    "# Drop the rows where there is no Hotel Name.\n",
    "clean_hotel_df = hotel_df.dropna(subset=[\"Hotel Name\"]).copy()\n",
    "\n",
    "# Display sample data\n",
    "clean_hotel_df"
   ]
  },
  {
   "cell_type": "code",
   "execution_count": null,
   "metadata": {},
   "outputs": [],
   "source": [
    "# Create the output File (CSV)\n",
    "clean_travel_cities = preferred_cities_df.dropna().copy()\n",
    "print(clean_travel_cities)\n",
    "\n",
    "# Export the City_Data into a csv\n",
    "output_file = \"c:\\city_data.csv\"\n",
    "city_data_df.to_csv(output_file, index=False)"
   ]
  },
  {
   "cell_type": "code",
   "execution_count": null,
   "metadata": {},
   "outputs": [],
   "source": [
    "## Use GeoViews to create a map that displays a point for every city in the `clean_hotel_df` DataFrame.\n",
    "# Convert the DataFrame to a GeoDataFrame\n",
    "gdf = gpd.GeoDataFrame(clean_hotel_df, geometry=gpd.points_from_xy(clean_hotel_df['Longitude'], clean_hotel_df['Latitude']))\n",
    "\n",
    "# Define the GeoViews element with additional information\n",
    "points = gv.Points(gdf, vdims=['City', 'Country', 'Current Description', 'Max Temp'])\n",
    "\n",
    "# Customize the point size based on the maximum temperature\n",
    "point_plot = points.opts(size='Max Temp', color='red', cmap='coolwarm', alpha=0.7, tools=['hover'], width=800, height=600)\n",
    "\n",
    "# Overlay the points on a tile source\n",
    "map_plot = gvts.OSM() * point_plot\n",
    "\n"
   ]
  },
  {
   "cell_type": "code",
   "execution_count": null,
   "metadata": {},
   "outputs": [],
   "source": [
    "# Configure the map plot\n",
    "gv.extension('bokeh')\n",
    "\n",
    "# Display the map\n",
    "map_plot"
   ]
  },
  {
   "cell_type": "code",
   "execution_count": null,
   "metadata": {},
   "outputs": [],
   "source": []
  },
  {
   "cell_type": "code",
   "execution_count": null,
   "metadata": {},
   "outputs": [],
   "source": []
  },
  {
   "cell_type": "code",
   "execution_count": null,
   "metadata": {},
   "outputs": [],
   "source": []
  },
  {
   "cell_type": "code",
   "execution_count": null,
   "metadata": {},
   "outputs": [],
   "source": []
  }
 ],
 "metadata": {
  "kernelspec": {
   "display_name": "Python 3 (ipykernel)",
   "language": "python",
   "name": "python3"
  },
  "language_info": {
   "codemirror_mode": {
    "name": "ipython",
    "version": 3
   },
   "file_extension": ".py",
   "mimetype": "text/x-python",
   "name": "python",
   "nbconvert_exporter": "python",
   "pygments_lexer": "ipython3",
   "version": "3.9.13"
  },
  "latex_envs": {
   "LaTeX_envs_menu_present": true,
   "autoclose": false,
   "autocomplete": true,
   "bibliofile": "biblio.bib",
   "cite_by": "apalike",
   "current_citInitial": 1,
   "eqLabelWithNumbers": true,
   "eqNumInitial": 1,
   "hotkeys": {
    "equation": "Ctrl-E",
    "itemize": "Ctrl-I"
   },
   "labels_anchors": false,
   "latex_user_defs": false,
   "report_style_numbering": false,
   "user_envs_cfg": false
  }
 },
 "nbformat": 4,
 "nbformat_minor": 4
}
